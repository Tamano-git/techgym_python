{
  "nbformat": 4,
  "nbformat_minor": 0,
  "metadata": {
    "colab": {
      "name": "6章.ipynb ",
      "provenance": [],
      "authorship_tag": "ABX9TyPKKBfJ6L3BztFo//umCFUA",
      "include_colab_link": true
    },
    "kernelspec": {
      "name": "python3",
      "display_name": "Python 3"
    }
  },
  "cells": [
    {
      "cell_type": "markdown",
      "metadata": {
        "id": "view-in-github",
        "colab_type": "text"
      },
      "source": [
        "<a href=\"https://colab.research.google.com/github/Tamano-git/techgym_python/blob/master/6_00.ipynb\" target=\"_parent\"><img src=\"https://colab.research.google.com/assets/colab-badge.svg\" alt=\"Open In Colab\"/></a>"
      ]
    },
    {
      "cell_type": "markdown",
      "metadata": {
        "id": "wDAITrR2rLm8",
        "colab_type": "text"
      },
      "source": [
        ""
      ]
    },
    {
      "cell_type": "code",
      "metadata": {
        "id": "VgufoaBrrfTf",
        "colab_type": "code",
        "colab": {
          "base_uri": "https://localhost:8080/",
          "height": 103
        },
        "outputId": "5676287e-0dcf-4358-f949-73d0ed97f6d0"
      },
      "source": [
        "import requests\n",
        "import cv2 as cv\n",
        "import os\n",
        "import matplotlib.pyplot as plt\n",
        "import numpy as np\n",
        "\n",
        "card_images = []\n",
        "\n",
        "def load_image():\n",
        "  image_name = 'cards.jpg'\n",
        "  vsplit_number = 4\n",
        "  hsplit_number = 13\n",
        "  \n",
        "  if not os.path.isfile(image_name):\n",
        "    response = requests.get('http://3156.bz/techgym/cards.jpg', allow_redirects=False)\n",
        "    with open(image_name, 'wb') as image:\n",
        "      image.write(response.content)\n",
        "   \n",
        "  img = cv.imread('./'+image_name)\n",
        "  img = cv.cvtColor(img, cv.COLOR_BGR2RGB)\n",
        " \n",
        "  h, w = img.shape[:2]\n",
        "  crop_img = img[:h // vsplit_number * vsplit_number, :w // hsplit_number * hsplit_number]\n",
        "  \n",
        "  card_images.clear()\n",
        "  for h_image in np.vsplit(crop_img, vsplit_number):\n",
        "    for v_image in np.hsplit(h_image, hsplit_number):\n",
        "      card_images.append(v_image)\n",
        "\n",
        "def play():\n",
        "  load_image()\n",
        "  show_test()\n",
        "\n",
        "def show_test():\n",
        "  plt.subplot(1,6,1)\n",
        "  plt.axis(\"off\")\n",
        "  plt.imshow(card_images[5])\n",
        "  plt.subplot(1,6,2)\n",
        "  plt.axis(\"off\")\n",
        "  plt.imshow(card_images[6])\n",
        "  plt.show()\n",
        "\n",
        "play()"
      ],
      "execution_count": 7,
      "outputs": [
        {
          "output_type": "display_data",
          "data": {
            "image/png": "[encoded data removed]",
            "text/plain": [
              "<Figure size 432x288 with 2 Axes>"
            ]
          },
          "metadata": {
            "tags": []
          }
        }
      ]
    }
  ]
}